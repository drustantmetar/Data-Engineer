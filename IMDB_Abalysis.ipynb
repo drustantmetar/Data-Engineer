{
  "nbformat": 4,
  "nbformat_minor": 0,
  "metadata": {
    "colab": {
      "provenance": [],
      "authorship_tag": "ABX9TyN91oB4iIEE2/hkGFzZby7y",
      "include_colab_link": true
    },
    "kernelspec": {
      "name": "python3",
      "display_name": "Python 3"
    },
    "language_info": {
      "name": "python"
    }
  },
  "cells": [
    {
      "cell_type": "markdown",
      "metadata": {
        "id": "view-in-github",
        "colab_type": "text"
      },
      "source": [
        "<a href=\"https://colab.research.google.com/github/drustantmetar/Data-Engineer/blob/main/IMDB_Abalysis.ipynb\" target=\"_parent\"><img src=\"https://colab.research.google.com/assets/colab-badge.svg\" alt=\"Open In Colab\"/></a>"
      ]
    },
    {
      "cell_type": "markdown",
      "source": [
        "**IMDB Analysis**"
      ],
      "metadata": {
        "id": "zlM4aCOJ1W30"
      }
    },
    {
      "cell_type": "code",
      "source": [
        "import pyspark\n",
        "from pyspark.sql import SparkSession\n",
        "from pyspark.sql.functions import *"
      ],
      "metadata": {
        "id": "txmlYDyo2P0r"
      },
      "execution_count": 4,
      "outputs": []
    },
    {
      "cell_type": "markdown",
      "source": [
        "Import the File"
      ],
      "metadata": {
        "id": "FHw0J9kS2ykx"
      }
    },
    {
      "cell_type": "code",
      "source": [
        "sc:SparkContext = SparkSession.builder.appName(\"IMDB\").getOrCreate().sparkContext\n",
        "movie=sc.textFile(\"Movies.dat\")"
      ],
      "metadata": {
        "id": "rZVYJkNa23BG"
      },
      "execution_count": 5,
      "outputs": []
    },
    {
      "cell_type": "code",
      "source": [],
      "metadata": {
        "id": "13XzXJ7T3Qf_"
      },
      "execution_count": 7,
      "outputs": []
    }
  ]
}